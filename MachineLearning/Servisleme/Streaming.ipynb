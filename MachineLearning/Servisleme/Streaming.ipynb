{
 "cells": [
  {
   "cell_type": "code",
   "execution_count": 1,
   "id": "22a88641",
   "metadata": {},
   "outputs": [
    {
     "name": "stderr",
     "output_type": "stream",
     "text": [
      "2023-12-17 15:19:04.184 \n",
      "  \u001b[33m\u001b[1mWarning:\u001b[0m to view this Streamlit app on a browser, run it with the following\n",
      "  command:\n",
      "\n",
      "    streamlit run /Users/ebrar/anaconda3/lib/python3.11/site-packages/ipykernel_launcher.py [ARGUMENTS]\n"
     ]
    }
   ],
   "source": [
    "import streamlit as st\n",
    "import joblib\n",
    "import numpy as np\n",
    "\n",
    "# Modeli yükleme\n",
    "def load_model():\n",
    "    # Model dosyasının yolunu doğru bir şekilde belirtin\n",
    "    model = joblib.load(\"random_forest_model.pkl\")\n",
    "    return model\n",
    "\n",
    "# Ana sayfa gösterimi\n",
    "def show_home():\n",
    "    st.title('Random Forest Modeli ile Bilgisayar Fiyat Tahmini')\n",
    "    st.write('Bu uygulama, bir bilgisayarın özelliklerine göre fiyatını tahmin etmek için Random Forest modelini kullanır.')\n",
    "\n",
    "# Tahmin yapma sayfası\n",
    "def show_prediction_page(model):\n",
    "    st.title('Bilgisayar Fiyat Tahmini')\n",
    "\n",
    "    # Kullanıcıdan özellikleri alma\n",
    "    os_options = {'Windows': 1, 'MacOS': 2, 'Linux': 3, 'FreeDos': 4}\n",
    "    cpu_options = {'Intel': 1, 'AMD': 2, 'Apple/M1/M2/M3': 3}\n",
    "    gpu_options = {'Intel': 1, 'NVIDIA': 2, 'AMD': 3, 'Apple/M': 4, 'Dahili': 5}\n",
    "\n",
    "    selected_os = st.selectbox('İşletim Sistemi', list(os_options.keys()))\n",
    "    selected_cpu = st.selectbox('İşlemci Tipi', list(cpu_options.keys()))\n",
    "    selected_gpu = st.selectbox('Ekran Kartı', list(gpu_options.keys()))\n",
    "    ram = st.slider('RAM (GB)', 1, 64, 8)\n",
    "    ssd_kapasitesi = st.slider('SSD Kapasitesi (GB)', 128, 2048, 256)\n",
    "    ekran_boyutu = st.slider('Ekran Boyutu (inç)', 10.0, 20.0, 15.6)\n",
    "    cozunurluk_genislik = st.number_input('Çözünürlük Genişlik (px)', min_value=800, max_value=4000, value=1920)\n",
    "    cozunurluk_yukseklik = st.number_input('Çözünürlük Yükseklik (px)', min_value=600, max_value=3000, value=1080)\n",
    "\n",
    "    # Tahmin butonu\n",
    "    if st.button('Fiyat Tahmini Yap'):\n",
    "        features = np.array([[os_options[selected_os], cpu_options[selected_cpu],\n",
    "                              gpu_options[selected_gpu], ram, ssd_kapasitesi,\n",
    "                              ekran_boyutu, cozunurluk_genislik, cozunurluk_yukseklik]])\n",
    "        prediction = model.predict(features)\n",
    "        st.success(f'Tahmini Fiyat: {prediction[0]:.2f} TL')\n",
    "# Uygulamanın ana fonksiyonu\n",
    "def main():\n",
    "    model = load_model()\n",
    "\n",
    "    st.sidebar.title('Navigasyon')\n",
    "    selected_page = st.sidebar.selectbox('Sayfayı Seçin', [\"Ana Sayfa\", \"Fiyat Tahmini Yap\"])\n",
    "\n",
    "    if selected_page == \"Ana Sayfa\":\n",
    "        show_home()\n",
    "    elif selected_page == \"Fiyat Tahmini Yap\":\n",
    "        show_prediction_page(model)\n",
    "\n",
    "if __name__ == \"__main__\":\n",
    "    main()\n"
   ]
  },
  {
   "cell_type": "code",
   "execution_count": null,
   "id": "72a86057",
   "metadata": {},
   "outputs": [],
   "source": []
  },
  {
   "cell_type": "code",
   "execution_count": null,
   "id": "d8564b07",
   "metadata": {},
   "outputs": [],
   "source": []
  }
 ],
 "metadata": {
  "kernelspec": {
   "display_name": "Python 3 (ipykernel)",
   "language": "python",
   "name": "python3"
  },
  "language_info": {
   "codemirror_mode": {
    "name": "ipython",
    "version": 3
   },
   "file_extension": ".py",
   "mimetype": "text/x-python",
   "name": "python",
   "nbconvert_exporter": "python",
   "pygments_lexer": "ipython3",
   "version": "3.11.5"
  }
 },
 "nbformat": 4,
 "nbformat_minor": 5
}
